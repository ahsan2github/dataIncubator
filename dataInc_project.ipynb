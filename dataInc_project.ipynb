{
 "cells": [
  {
   "cell_type": "code",
   "execution_count": 1,
   "metadata": {},
   "outputs": [],
   "source": [
    "import requests\n",
    "import json\n",
    "import numpy as np\n",
    "import pandas as pd\n",
    "import tensorflow as tf\n",
    "import matplotlib.pyplot as plt\n",
    "from datetime import datetime as py_datetime\n",
    "%matplotlib inline"
   ]
  },
  {
   "cell_type": "code",
   "execution_count": 2,
   "metadata": {},
   "outputs": [],
   "source": [
    "#data=requests.get(\"https://www.alphavantage.co/query?function=TIME_SERIES_DAILY&symbol=MSFT&outputsize=full&apikey=RU1K3VX6KM5GVHKJ\")\n",
    "#print(\"status code: \", data.status_code)"
   ]
  },
  {
   "cell_type": "code",
   "execution_count": 3,
   "metadata": {},
   "outputs": [],
   "source": [
    "#jdata = json.loads(data.content)\n",
    "#with open('alphavantage_series.txt', 'w') as ofile:\n",
    "#    json.dump(jdata, ofile)\n",
    "#    ofile.close()"
   ]
  },
  {
   "cell_type": "code",
   "execution_count": 4,
   "metadata": {},
   "outputs": [],
   "source": [
    "with open('alphavantage_series.txt', 'r') as ifile:\n",
    "    jdata1 = json.load(ifile)\n",
    "    ifile.close()"
   ]
  },
  {
   "cell_type": "code",
   "execution_count": 8,
   "metadata": {},
   "outputs": [],
   "source": [
    "#if data.status_code == 200: \n",
    "#jdata = json.loads(data.content)\n",
    "meta_data = jdata1['Meta Data']\n",
    "time_series_dict = jdata1['Time Series (Daily)'];\n",
    "dates = list(time_series_dict.keys());\n",
    "\n",
    "df = pd.DataFrame()\n",
    "df['date'] = [pd.to_datetime(x) for x in dates]\n",
    "df['open'] = [np.float64(time_series_dict[x]['1. open']) for x in dates]\n",
    "df['high'] = [np.float64(time_series_dict[x]['2. high']) for x in dates]\n",
    "df['low'] = [np.float64(time_series_dict[x]['3. low']) for x in dates]\n",
    "df['close'] = [np.float64(time_series_dict[x]['4. close']) for x in dates]\n",
    "df['volume'] = [np.float64(time_series_dict[x]['5. volume']) for x in dates]\n",
    "df['symbol'] = meta_data['2. Symbol']\n",
    "df.index = df['date']\n",
    "#else:\n",
    " #   print(\"Error in retrieving data!, status code: \", data.status_code)\n"
   ]
  },
  {
   "cell_type": "code",
   "execution_count": 10,
   "metadata": {},
   "outputs": [
    {
     "name": "stdout",
     "output_type": "stream",
     "text": [
      "                 date   open   high   low  close      volume symbol\n",
      "date                                                               \n",
      "2018-04-26 2018-04-26  93.55  95.15  93.1  94.26  42529043.0   MSFT\n"
     ]
    },
    {
     "data": {
      "image/png": "[encoded data removed]",
      "text/plain": [
       "<matplotlib.figure.Figure at 0x7f56ff665908>"
      ]
     },
     "metadata": {},
     "output_type": "display_data"
    }
   ],
   "source": [
    "print(df['2018-04-26'])\n",
    "fig, ax = plt.subplots(2,1, sharex='col')\n",
    "fig.set_size_inches(12, 3.5)\n",
    "ax[0].plot(df.index[0:11], df['open'][0:11], 'og')\n",
    "ax[0].plot(df.index[0:11], df['close'][0:11], 'or')\n",
    "ax[0].fill_between(df.index[0:11], 90, df['open'][0:11], facecolor='darkturquoise', alpha=0.15)\n",
    "ax[0].set_ylim([90, 100])\n",
    "ax[0].set_ylabel('open/close', fontsize=12)\n",
    "ax[0].legend(['open', 'close'], frameon=0, fontsize=12, loc='upper left')\n",
    "\n",
    "ax[1].plot(df.index[0:11], df['low'][0:11], 'or')\n",
    "ax[1].plot(df.index[0:11], df['high'][0:11], 'og')\n",
    "ax[1].fill_between(df.index[0:11], 89, df['low'][0:11], facecolor='orange', alpha=0.15)\n",
    "ax[1].set_ylabel(\"low/high\", fontsize=12)\n",
    "ax[1].legend(['low', 'high'], frameon=0, fontsize=12, loc='upper left')\n",
    "ax[1].set_ylim([89, 100])\n",
    "ax[1].tick_params(axis='x', rotation=60)\n",
    "plt.show()"
   ]
  },
  {
   "cell_type": "code",
   "execution_count": 11,
   "metadata": {},
   "outputs": [
    {
     "name": "stdout",
     "output_type": "stream",
     "text": [
      "Data Size in MB: 0.2813720703125\n"
     ]
    }
   ],
   "source": [
    "print(\"Data Size in MB: {0}\".format(df.memory_usage(index=True).sum()/1024/1024))\n",
    "\n",
    "class tseries_data:\n",
    "    def __init__(self, source, source_dates):\n",
    "        self.dates = np.array(source_dates.map(str).tolist())\n",
    "        self.dates = self.dates.flatten()\n",
    "        self.tseries = source.as_matrix().flatten()\n",
    "        self.nrow = self.tseries.shape\n",
    "        self.nrow = self.nrow[0]\n",
    "        \n",
    "    def get_series(self, series_len, date_yes = False):\n",
    "        if series_len > self.nrow:\n",
    "            print(\"Requested series is longer than existing series\")\n",
    "            return\n",
    "        else:\n",
    "            begin = np.random.rand()\n",
    "            begin = np.int(begin * (self.nrow - series_len - 1))\n",
    "            x_temp = self.tseries[begin+1:begin+series_len+1]\n",
    "            x = x_temp[::-1]\n",
    "            y_temp = self.tseries[begin:begin+series_len]\n",
    "            y = y_temp[::-1]\n",
    "            date_series_temp = self.dates[begin:begin+series_len+1]\n",
    "            date_series = date_series_temp[::-1]\n",
    "            if date_yes:\n",
    "                return np.reshape(x, [-1, series_len, 1]), np.reshape(y, [-1, series_len, 1]), np.reshape(date_series, [-1, series_len+1, 1])\n",
    "            else:\n",
    "                return np.reshape(x, [-1, series_len, 1]), np.reshape(y, [-1, series_len, 1]) \n",
    "        \n",
    "    def get_latest_series(self, series_len, date_yes = False):\n",
    "        if series_len > self.nrow:\n",
    "            print(\"Requested series is longer than existing series\")\n",
    "            return\n",
    "        else:\n",
    "            x_temp = self.tseries[1:series_len+1]\n",
    "            x = x_temp[::-1]\n",
    "            y_temp = self.tseries[0:series_len]\n",
    "            y = y_temp[::-1]\n",
    "            date_series_temp = self.dates[0:series_len+1]\n",
    "            date_series = date_series_temp[::-1]\n",
    "        if date_yes:\n",
    "            return np.reshape(x, [-1, series_len, 1]), np.reshape(y, [-1, series_len, 1]), np.reshape(date_series, [-1, series_len+1, 1])\n",
    "        else:\n",
    "            return np.reshape(x, [-1, series_len, 1]), np.reshape(y, [-1, series_len, 1])\n",
    "        \n",
    "    def get_batch(self, batch_size, series_len, date_yes = False):\n",
    "        if series_len > self.nrow:\n",
    "            print(\"Requested series is longer than existing series\")\n",
    "            return\n",
    "        else:\n",
    "            batch_x = np.zeros([series_len, batch_size])\n",
    "            batch_y = np.zeros([series_len, batch_size])\n",
    "            batch_date = np.empty([series_len+1, batch_size], dtype=np.object_)\n",
    "            for ii in range(batch_size):\n",
    "                x, y, d = self.get_series(series_len, 1)\n",
    "                batch_x[:, ii], batch_y[:,ii], batch_date[:, ii] = x.flatten(), y.flatten(), d.flatten()\n",
    "            if date_yes:   \n",
    "                return np.reshape(batch_x, [-1, series_len, 1]), np.reshape(batch_y, [-1, series_len, 1]), np.reshape(batch_date, [-1, series_len+1, 1]) \n",
    "            else:\n",
    "                return np.reshape(batch_x, [-1, series_len, 1]), np.reshape(batch_y, [-1, series_len, 1])        "
   ]
  },
  {
   "cell_type": "code",
   "execution_count": 27,
   "metadata": {},
   "outputs": [],
   "source": [
    "tsd = tseries_data(df['open'], df.index)\n",
    "series_len = 20\n",
    "n_inputs = 1\n",
    "n_neurons = 100\n",
    "n_outputs = 1\n",
    "learning_rate = 0.001\n",
    "n_train_iter = 5000"
   ]
  },
  {
   "cell_type": "code",
   "execution_count": 28,
   "metadata": {},
   "outputs": [],
   "source": [
    "tf.reset_default_graph()\n",
    "xx = tf.placeholder(tf.float64, [None, series_len, n_inputs])\n",
    "yy = tf.placeholder(tf.float64, [None, series_len, n_outputs])\n",
    "cell = tf.contrib.rnn.OutputProjectionWrapper(\n",
    "     tf.contrib.rnn.BasicLSTMCell(num_units=n_neurons, activation=tf.nn.relu),\n",
    "     output_size=n_outputs)\n",
    "outputs, states = tf.nn.dynamic_rnn(cell, xx, dtype=tf.float64)\n",
    "loss = tf.reduce_mean(tf.square(outputs - yy)) \n",
    "optimizer = tf.train.AdamOptimizer(learning_rate=learning_rate)\n",
    "train = optimizer.minimize(loss)\n",
    "init = tf.global_variables_initializer()"
   ]
  },
  {
   "cell_type": "code",
   "execution_count": 29,
   "metadata": {},
   "outputs": [
    {
     "name": "stdout",
     "output_type": "stream",
     "text": [
      "0 \t MSE Error: 901.042017817\n",
      "100 \t MSE Error: 259.521716398\n",
      "200 \t MSE Error: 1253.5900008\n",
      "300 \t MSE Error: 454.387424263\n",
      "400 \t MSE Error: 412.864730802\n",
      "500 \t MSE Error: 146.907888122\n",
      "600 \t MSE Error: 225.004300525\n",
      "700 \t MSE Error: 813.420502251\n",
      "800 \t MSE Error: 110.314689492\n",
      "900 \t MSE Error: 79.5623299312\n",
      "1000 \t MSE Error: 240.637244885\n",
      "1100 \t MSE Error: 1274.86038105\n",
      "1200 \t MSE Error: 67.4666799448\n",
      "1300 \t MSE Error: 176.660596136\n",
      "1400 \t MSE Error: 31.3637426405\n",
      "1500 \t MSE Error: 102.238622994\n",
      "1600 \t MSE Error: 1125.75052609\n",
      "1700 \t MSE Error: 26.0985741351\n",
      "1800 \t MSE Error: 30.0387288862\n",
      "1900 \t MSE Error: 32.988831479\n",
      "2000 \t MSE Error: 266.424756022\n",
      "2100 \t MSE Error: 223.498483657\n",
      "2200 \t MSE Error: 93.9912813875\n",
      "2300 \t MSE Error: 179.614879997\n",
      "2400 \t MSE Error: 315.515852463\n",
      "2500 \t MSE Error: 27.9500621666\n",
      "2600 \t MSE Error: 374.42823734\n",
      "2700 \t MSE Error: 47.200568822\n",
      "2800 \t MSE Error: 263.417808787\n",
      "2900 \t MSE Error: 22.1981691105\n",
      "3000 \t MSE Error: 69.5185322819\n",
      "3100 \t MSE Error: 20.479234481\n",
      "3200 \t MSE Error: 15.7961031684\n",
      "3300 \t MSE Error: 26.8267483972\n",
      "3400 \t MSE Error: 23.6968559061\n",
      "3500 \t MSE Error: 18.9488976017\n",
      "3600 \t MSE Error: 68.3445015335\n",
      "3700 \t MSE Error: 21.2271228054\n",
      "3800 \t MSE Error: 13.0103330635\n",
      "3900 \t MSE Error: 158.585798968\n",
      "4000 \t MSE Error: 54.5801072755\n",
      "4100 \t MSE Error: 18.1406795333\n",
      "4200 \t MSE Error: 7.75316734814\n",
      "4300 \t MSE Error: 14.5315051934\n",
      "4400 \t MSE Error: 14.382705375\n",
      "4500 \t MSE Error: 20.5341561605\n",
      "4600 \t MSE Error: 128.815722318\n",
      "4700 \t MSE Error: 16.3284580363\n",
      "4800 \t MSE Error: 12.6372677567\n",
      "4900 \t MSE Error: 16.9138673284\n"
     ]
    }
   ],
   "source": [
    "with tf.Session() as sess:\n",
    "    sess.run(init)\n",
    "    \n",
    "    for iteration in range(n_train_iter):\n",
    "        if iteration == n_train_iter - 1:\n",
    "            x_series, y_series = tsd.get_latest_series(series_len)\n",
    "        else:\n",
    "            x_series, y_series = tsd.get_series(series_len)\n",
    "        sess.run(train, feed_dict={xx: x_series, yy: y_series})\n",
    "        \n",
    "        if iteration % 100 == 0:            \n",
    "            mse = loss.eval(feed_dict={xx: x_series, yy: y_series})\n",
    "            print(iteration, \"\\t MSE Error:\", mse)\n",
    "    test_x, test_y, test_date = tsd.get_latest_series(series_len, True)\n",
    "    y_pred = sess.run(outputs, feed_dict={xx: test_x})"
   ]
  },
  {
   "cell_type": "code",
   "execution_count": 30,
   "metadata": {},
   "outputs": [
    {
     "name": "stdout",
     "output_type": "stream",
     "text": [
      "(1, 50, 1)\n"
     ]
    },
    {
     "data": {
      "image/png": "[encoded data removed]",
      "text/plain": [
       "<matplotlib.figure.Figure at 0x7f56ec177668>"
      ]
     },
     "metadata": {},
     "output_type": "display_data"
    }
   ],
   "source": [
    "print(test_x.shape)\n",
    "test_date = test_date.flatten()[::-1]\n",
    "fig, ax = plt.subplots(1,1)\n",
    "fig.set_size_inches(12, 3.5)\n",
    "ax.plot(test_date[0:-1], test_x.flatten()[::-1], 'or', label='train data')\n",
    "ax.plot(test_date[1:], test_y.flatten()[::-1], 'og', label='expected output')\n",
    "ax.plot(test_date[1:], y_pred.flatten()[::-1], '^b', label='predicted')\n",
    "plt.legend(frameon=False)\n",
    "ax.tick_params(axis='x', rotation=60)\n",
    "plt.show()\n"
   ]
  }
 ],
 "metadata": {
  "kernelspec": {
   "display_name": "Python 3",
   "language": "python",
   "name": "python3"
  },
  "language_info": {
   "codemirror_mode": {
    "name": "ipython",
    "version": 3
   },
   "file_extension": ".py",
   "mimetype": "text/x-python",
   "name": "python",
   "nbconvert_exporter": "python",
   "pygments_lexer": "ipython3",
   "version": "3.6.5"
  }
 },
 "nbformat": 4,
 "nbformat_minor": 2
}
