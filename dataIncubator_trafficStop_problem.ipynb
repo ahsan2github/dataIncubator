{
 "cells": [
  {
   "cell_type": "code",
   "execution_count": 1,
   "metadata": {},
   "outputs": [],
   "source": [
    "import numpy as np\n",
    "import pandas as pd\n",
    "import seaborn as sns\n",
    "import sklearn as sl\n",
    "import matplotlib.pyplot as plt"
   ]
  },
  {
   "cell_type": "code",
   "execution_count": 2,
   "metadata": {},
   "outputs": [],
   "source": [
    "data = pd.read_csv(\"MT_cleaned.csv\", dtype=object)\n",
    "mtf= data[['id', 'state','county_fips','stop_date','stop_time','location_raw','driver_gender','violation','lat','lon','out_of_state','vehicle_year','stop_outcome_raw', 'stop_outcome']]; \n",
    "del data;\n",
    "data = pd.read_csv(\"VT_cleaned.csv\", dtype=object)\n",
    "vtf = data[['id', 'state','stop_date','stop_time','location_raw','driver_gender','violation','stop_outcome']]; \n",
    "del data;\n",
    "mtf['unit'] = 1\n",
    "vtf['unit'] = 1"
   ]
  },
  {
   "cell_type": "markdown",
   "metadata": {},
   "source": [
    "## What proportion of traffic stops in Montana involved male/female drivers? "
   ]
  },
  {
   "cell_type": "code",
   "execution_count": 3,
   "metadata": {},
   "outputs": [
    {
     "name": "stdout",
     "output_type": "stream",
     "text": [
      "Number of rows missing gender values: 119 \n",
      "\n",
      "                 unit  fraction\n",
      "driver_gender                  \n",
      "F              268065  0.324881\n",
      "M              556934  0.674975\n",
      "Stopped vehicle drives fraction female : 0.324880805\n",
      "Stopped vehicle drives fraction male : 0.674974973\n"
     ]
    }
   ],
   "source": [
    "missing_sex_values_no_rows = mtf[mtf['driver_gender'].isnull()]\n",
    "print('Number of rows missing gender values: {0} \\n'.format(missing_sex_values_no_rows.shape[0]))\n",
    "pivot_sex = pd.DataFrame(pd.pivot_table(mtf, index=['driver_gender'], values=['unit'], aggfunc=np.sum))\n",
    "pivot_sex['fraction'] = pivot_sex['unit']/mtf.shape[0]\n",
    "print(pivot_sex.to_string())\n",
    "print(\"Stopped vehicle drives fraction female : {0:1.9f}\".format(pivot_sex['fraction'][0]))\n",
    "print(\"Stopped vehicle drives fraction male : {0:1.9f}\".format(pivot_sex['fraction'][1]))"
   ]
  },
  {
   "cell_type": "markdown",
   "metadata": {},
   "source": [
    "## What proportion of traffic stops in Vermont involved male/female drivers? "
   ]
  },
  {
   "cell_type": "code",
   "execution_count": 4,
   "metadata": {},
   "outputs": [
    {
     "name": "stdout",
     "output_type": "stream",
     "text": [
      "Number of rows missing gender values: 1712 \n",
      "\n",
      "                 unit  fraction\n",
      "driver_gender                  \n",
      "F              101895  0.359691\n",
      "M              179678  0.634266\n",
      "\n",
      "\n",
      "Stopped vehicle drives fraction female : 0.359690771\n",
      "Stopped vehicle drives fraction male : 0.634265845\n"
     ]
    }
   ],
   "source": [
    "missing_sex_values_no_rows = vtf[vtf['driver_gender'].isnull()]\n",
    "print('Number of rows missing gender values: {0} \\n'.format(missing_sex_values_no_rows.shape[0]))\n",
    "pivot_sex = pd.DataFrame(pd.pivot_table(vtf, index=['driver_gender'], values=['unit'], aggfunc=np.sum))\n",
    "pivot_sex['fraction'] = pivot_sex['unit']/vtf.shape[0]\n",
    "print(pivot_sex.to_string())\n",
    "print(\"\\n\")\n",
    "print(\"Stopped vehicle drives fraction female : {0:1.9f}\".format(pivot_sex['fraction'][0]))\n",
    "print(\"Stopped vehicle drives fraction male : {0:1.9f}\".format(pivot_sex['fraction'][1]))"
   ]
  },
  {
   "cell_type": "markdown",
   "metadata": {},
   "source": [
    "## $\\chi^2$ test to determine if proportions of arrest in two populations are equal"
   ]
  },
  {
   "cell_type": "code",
   "execution_count": 5,
   "metadata": {},
   "outputs": [],
   "source": [
    "from scipy.stats import chisquare\n"
   ]
  },
  {
   "cell_type": "markdown",
   "metadata": {},
   "source": [
    "## How much more likely does a traffic stop in Montana result in a DUI than a traffic stop in Vermont?"
   ]
  },
  {
   "cell_type": "code",
   "execution_count": 6,
   "metadata": {},
   "outputs": [
    {
     "name": "stdout",
     "output_type": "stream",
     "text": [
      "Number of rows missing violation values in MT set: 73 \n",
      "\n",
      "Number of rows missing violation values in VT set: 2178 \n",
      "\n",
      "========= DUI statistics for MT==========\n",
      "                 unit  DUI_fraction\n",
      "dui_violation                      \n",
      "0              816204      0.989197\n",
      "1                8914      0.010803\n",
      "========= DUI statistics for VT==========\n",
      "                 unit  DUI_fraction\n",
      "dui_violation                      \n",
      "0              282536      0.342419\n",
      "1                 749      0.000908\n",
      "Likelihood of trafic stops due to DUI in Montana compated to Vermont: 11.901201602\n"
     ]
    }
   ],
   "source": [
    "missing_violation_values_no_rows = mtf[mtf['violation'].isnull()]\n",
    "print('Number of rows missing violation values in MT set: {0} \\n'.format(missing_violation_values_no_rows.shape[0]))\n",
    "missing_violation_values_no_rows = vtf[vtf['violation'].isnull()]\n",
    "print('Number of rows missing violation values in VT set: {0} \\n'.format(missing_violation_values_no_rows.shape[0]))\n",
    "import re\n",
    "def get_DUI_incident(x):\n",
    "    DUI_Regex = re.compile (r'DUI', re.IGNORECASE);\n",
    "    res = DUI_Regex.search(x);\n",
    "    # if condition is required because some rows may not return mobj due to lack of any matching expression\n",
    "    if res:\n",
    "        return 1;\n",
    "    else:\n",
    "        return 0;\n",
    "#print(mtf['violation'].unique())\n",
    "# create a new data frame with violations only from MT dataset               \n",
    "violation_mt = pd.DataFrame(mtf['violation'])\n",
    "violation_mt.dropna()\n",
    "# convert the violation colum into str, regex complains without conversion\n",
    "violation_mt['violation'] = violation_mt['violation'].apply(str)\n",
    "# get the violation==DUI into a seris\n",
    "dui_violation = violation_mt['violation'].apply(get_DUI_incident);\n",
    "# add a new column of 0/1 values corresponding to no DUI violation / DUI violation\n",
    "violation_mt['dui_violation'] = dui_violation;\n",
    "# introduce  unit column for pivoting\n",
    "violation_mt['unit'] = 1\n",
    "# create a pivot table (DataFrame) from pivoting against DUI violation\n",
    "pivot_violation_mt = pd.DataFrame(pd.pivot_table(violation_mt, index=['dui_violation'], values=['unit'], aggfunc=np.sum))\n",
    "# introduce a new fraction colum in pivot_table\n",
    "pivot_violation_mt['DUI_fraction'] = pivot_violation_mt['unit']/mtf.shape[0] \n",
    "print(\"========= DUI statistics for MT==========\")\n",
    "print(pivot_violation_mt.to_string())\n",
    "\n",
    "#print(vtf['violation'].unique())\n",
    "# create a new data frame with violations only from VT dataset               \n",
    "violation_vt = pd.DataFrame(vtf['violation'])\n",
    "violation_vt.dropna()\n",
    "# convert the violation colum into str, regex complains without conversion\n",
    "violation_vt['violation'] = violation_vt['violation'].apply(str)\n",
    "# get the violation==DUI into a seris\n",
    "dui_violation = violation_vt['violation'].apply(get_DUI_incident);\n",
    "# add a new column of 0/1 values corresponding to no DUI violation / DUI violation\n",
    "violation_vt['dui_violation'] = dui_violation;\n",
    "# introduce  unit column for pivoting\n",
    "violation_vt['unit'] = 1\n",
    "# create a pivot table (DataFrame) from pivoting against DUI violation\n",
    "pivot_violation_vt = pd.DataFrame(pd.pivot_table(violation_vt, index=['dui_violation'], values=['unit'], aggfunc=np.sum))\n",
    "# introduce a new fraction colum in pivot_table\n",
    "pivot_violation_vt['DUI_fraction'] = pivot_violation_vt['unit']/mtf.shape[0] \n",
    "print(\"========= DUI statistics for VT==========\")\n",
    "print(pivot_violation_vt.to_string())\n",
    "print(\"Likelihood of trafic stops due to DUI in Montana compated to Vermont: {0:1.9f}\". \\\n",
    "      format(pivot_violation_mt['DUI_fraction'][1]/pivot_violation_vt['DUI_fraction'][1]))"
   ]
  },
  {
   "cell_type": "markdown",
   "metadata": {},
   "source": [
    "## How many more times likely are you to be arrested in Montana during a traffic stop if you have out of state plates?"
   ]
  },
  {
   "cell_type": "code",
   "execution_count": 7,
   "metadata": {},
   "outputs": [
    {
     "name": "stdout",
     "output_type": "stream",
     "text": [
      "Number of rows missing out_of_state values in MT set: 4699 \n",
      "\n",
      "['Citation' 'Arrest' nan 'Warning' 'Faulty Equipment Notice' 'No Action']\n",
      "=============== warning stats for Montana  =================\n",
      "  out_of_state  Arrested  fraction\n",
      "0        FALSE     12190  0.714621\n",
      "1         TRUE      4868  0.285379\n",
      "\n",
      "\n",
      "=============== out_of_state stats for Montana  =================\n",
      "  out_of_state    unit  fraction\n",
      "0        FALSE  616778  0.747503\n",
      "1         TRUE  203641  0.246802\n",
      "\n",
      "\n",
      "Likelihook of being stopped due of out of state license plate: 1.209512935\n",
      "\n",
      "\n",
      "stop_outcome  Arrest  Citation  Faulty Equipment Notice  No Action  Warning\n",
      "out_of_state                                                               \n",
      "FALSE          12190    280630                     1139        106   322667\n",
      "TRUE            4868    101257                      172         80    97258\n"
     ]
    }
   ],
   "source": [
    "missing_OutOfState_values_no_rows = mtf[mtf['out_of_state'].isnull()]\n",
    "print('Number of rows missing out_of_state values in MT set: {0} \\n'.format(missing_OutOfState_values_no_rows.shape[0]))\n",
    "mtf_state_bias = mtf[['out_of_state','stop_outcome','unit']]\n",
    "print(mtf_state_bias['stop_outcome'].unique())\n",
    "mtf_state_bias = mtf_state_bias[mtf_state_bias['stop_outcome']=='Arrest']\n",
    "mtf_state_bias['stop_outcome'] = 1\n",
    "mtf_state_bias = mtf_state_bias.rename(columns={'stop_outcome': 'Arrested'})\n",
    "mtf_state_bias.dropna(axis=0, how='any', inplace=True)\n",
    "# create a pivot table around out_of_state feature to count arrests\n",
    "ifstate_pivot_mt = pd.DataFrame(pd.pivot_table(mtf_state_bias, index=['out_of_state'], values=['Arrested'], aggfunc=np.sum))\n",
    "ifstate_pivot_mt['fraction'] = ifstate_pivot_mt['Arrested']/mtf_state_bias.shape[0]\n",
    "ifstate_pivot_mt.reset_index(inplace=True)\n",
    "print(\"=============== warning stats for Montana  =================\")\n",
    "print(ifstate_pivot_mt.to_string())\n",
    "print(\"\\n\")\n",
    "# create a pivot table around out_of_state feature\n",
    "outstate_pivot_mt = pd.DataFrame(pd.pivot_table(mtf, index=['out_of_state'], values=['unit'], aggfunc=np.sum))\n",
    "outstate_pivot_mt['fraction'] = outstate_pivot_mt['unit']/mtf.shape[0]\n",
    "outstate_pivot_mt.reset_index(inplace=True)\n",
    "print(\"=============== out_of_state stats for Montana  =================\")\n",
    "print(outstate_pivot_mt.to_string()) \n",
    "print(\"\\n\")\n",
    "print(\"Likelihook of being stopped due of out of state license plate: {0:1.9f}\".format( (ifstate_pivot_mt['Arrested'][1]/ifstate_pivot_mt['Arrested'][0]) / \\\n",
    "               (outstate_pivot_mt['unit'][1]/outstate_pivot_mt['unit'][0]) ))\n",
    "print(\"\\n\")\n",
    "print(pd.crosstab(mtf.out_of_state, mtf.stop_outcome))"
   ]
  },
  {
   "cell_type": "markdown",
   "metadata": {},
   "source": [
    "## What proportion of traffic stops in Montana resulted in speeding violations?"
   ]
  },
  {
   "cell_type": "code",
   "execution_count": 8,
   "metadata": {},
   "outputs": [
    {
     "name": "stdout",
     "output_type": "stream",
     "text": [
      "   speed_violation    unit\n",
      "0                0  282108\n",
      "1                1  543010\n",
      "\n",
      "\n",
      "proportion of stops due to speeding: 0.658099811\n"
     ]
    }
   ],
   "source": [
    "def get_speed_violation(x):\n",
    "    speeding_Regex = re.compile (r'speeding', re.IGNORECASE);\n",
    "    res = speeding_Regex.search(x);\n",
    "    # if condition is required because some rows may not return mobj due to lack of any matching expression\n",
    "    if res:\n",
    "        return 1;\n",
    "    else:\n",
    "        return 0;\n",
    "\n",
    "violation_mt = pd.DataFrame(mtf['violation'])\n",
    "violation_mt.dropna()\n",
    "# convert the violation colum into str, regex complains without conversion\n",
    "violation_mt['violation'] = violation_mt['violation'].apply(str)\n",
    "# get the violation== speeding into a seris\n",
    "speed_violation = violation_mt['violation'].apply(get_speed_violation);\n",
    "# add a new column of 0/1 values corresponding to no speeding violation \n",
    "violation_mt['speed_violation'] = speed_violation;\n",
    "violation_mt['unit'] = 1\n",
    "#pd.crosstab(violation_mt['violation'], violation_mt['speed_violation'])\n",
    "dummy = pd.DataFrame(pd.pivot_table(violation_mt, index=['speed_violation'], values=['unit'], aggfunc=np.sum )).reset_index()\n",
    "print(dummy)\n",
    "print(\"\\n\")\n",
    "print(\"proportion of stops due to speeding: {0:1.9f}\".format(dummy.iloc[1,1]/mtf.shape[0]))"
   ]
  },
  {
   "cell_type": "markdown",
   "metadata": {},
   "source": [
    "## What is the extrapolated, average manufacture year of vehicles involved in traffic stops in Montana in 2020?"
   ]
  },
  {
   "cell_type": "code",
   "execution_count": 9,
   "metadata": {},
   "outputs": [
    {
     "name": "stdout",
     "output_type": "stream",
     "text": [
      "[2009 2010 2011 2012 2013 2014 2015 2016]\n",
      "[ 2000.98021484  2001.52137704  2002.28093777  2003.36220682  2003.9051753\n",
      "  2004.4825065   2005.29576691  2005.87212849]\n",
      "p value: 0.000000056\n",
      "Projected avergare manufacturer year for stopped vehicles in 2020: 2008.843166\n"
     ]
    }
   ],
   "source": [
    "df = pd.crosstab(mtf['stop_date'], mtf['vehicle_year']).reset_index()\n",
    "df = df.iloc[:, :-2]\n",
    "def get_year(x):\n",
    "    date_Regex = re.compile (r'(\\d\\d\\d\\d)-(\\d\\d)-(\\d\\d)', re.IGNORECASE);\n",
    "    res = date_Regex.search(x);\n",
    "    if res:\n",
    "        return res.group(1);\n",
    "    else:\n",
    "        return np.nan;\n",
    "df['stop_date'] = df['stop_date'].map(get_year)\n",
    "df.rename(columns={'stop_date':'stop_year'}, inplace=True)\n",
    "df = df.groupby('stop_year').sum()\n",
    "stop_year = df.index.tolist();\n",
    "stop_year = np.array([int(x) for x in stop_year])\n",
    "year_list = list(df)\n",
    "year_list = np.array([int(x) for  x in year_list])\n",
    "avg_ = np.zeros([df.shape[0]])\n",
    "for ii in range(df.shape[0]):\n",
    "    arr = df.iloc[ii].as_matrix()\n",
    "    idx = np.nonzero(arr)\n",
    "    avg_[ii] = sum(year_list[idx]*arr[idx])/sum(arr[idx])\n",
    "print(stop_year)    \n",
    "print(avg_)\n",
    "from scipy import stats\n",
    "slope, intercept, r_value, p_value, std_err = stats.linregress(stop_year, avg_)\n",
    "print(\"p value: {0:1.9f}\".format(p_value))\n",
    "print(\"Projected avergare manufacturer year for stopped vehicles in 2020: {0:1.6f}\".format(slope*2020+intercept))"
   ]
  },
  {
   "cell_type": "code",
   "execution_count": 10,
   "metadata": {},
   "outputs": [
    {
     "data": {
      "text/plain": [
       "Text(0,0.5,'Average manufacturing year')"
      ]
     },
     "execution_count": 10,
     "metadata": {},
     "output_type": "execute_result"
    },
    {
     "data": {
      "image/png": "[encoded data removed]",
      "text/plain": [
       "<matplotlib.figure.Figure at 0x7ff1ed6a9128>"
      ]
     },
     "metadata": {},
     "output_type": "display_data"
    }
   ],
   "source": [
    "%matplotlib inline\n",
    "fig, ax = plt.subplots(1,1)\n",
    "fig.set_size_inches(12, 3.5)\n",
    "ax.plot(stop_year, avg_, 'og')\n",
    "ax.plot(range(2009,2022), slope*range(2009,2022)+intercept, '--b')\n",
    "ax.fill_between(range(2009,2022), min(avg_), slope*range(2009,2022)+intercept, facecolor='mistyrose', alpha=0.5)\n",
    "ax.set_xlabel(\"Stop year\", fontsize=12)\n",
    "ax.set_ylabel(\"Average manufacturing year\", fontsize=12)"
   ]
  },
  {
   "cell_type": "markdown",
   "metadata": {},
   "source": [
    "## Combine MT and VT data sets and find the hours when the most and least number of traffic stops occurred"
   ]
  },
  {
   "cell_type": "code",
   "execution_count": 11,
   "metadata": {},
   "outputs": [
    {
     "name": "stdout",
     "output_type": "stream",
     "text": [
      "max => hour : 15.000000000, cont: 95891.000000000\n",
      "min => hour : 4.000000000, cont: 547.000000000\n",
      "Max count - Min count: 95344.000000000\n"
     ]
    }
   ],
   "source": [
    "combined_dat  = pd.concat([mtf, vtf], ignore_index=True)\n",
    "def get_time(x):\n",
    "    time_Regex = re.compile (r'(\\d\\d):(\\d\\d)', re.IGNORECASE);\n",
    "    res = time_Regex.search(x); \n",
    "    if res:\n",
    "        return res.group(1);\n",
    "    else:\n",
    "        return np.nan;\n",
    "combined_dat['stop_time'] = combined_dat['stop_time'].map(str)     \n",
    "combined_dat['stop_time'] = combined_dat['stop_time'].map(get_time)  \n",
    "combined_dat = combined_dat.groupby('stop_time').sum().reset_index()\n",
    "#print(combined_dat)\n",
    "max_stat=combined_dat.iloc[combined_dat['unit'].idxmax()]\n",
    "min_stat=combined_dat.iloc[combined_dat['unit'].idxmin()]\n",
    "print(\"max => hour : {0:1.9f}, cont: {1:1.9f}\".format(int(max_stat.stop_time), max_stat.unit))\n",
    "print(\"min => hour : {0:1.9f}, cont: {1:1.9f}\".format(int(min_stat.stop_time), min_stat.unit))\n",
    "print(\"Max count - Min count: {0:1.9f}\".format(max_stat.unit - min_stat.unit))"
   ]
  },
  {
   "cell_type": "markdown",
   "metadata": {},
   "source": [
    "## Estimate the areas of the counties in Montana"
   ]
  },
  {
   "cell_type": "code",
   "execution_count": 46,
   "metadata": {},
   "outputs": [
    {
     "name": "stdout",
     "output_type": "stream",
     "text": [
      "       location_raw        lat         lon   lat_rad   lon_rad  lat_axis_len  lon_axis_len           area\n",
      "0        BEAVERHEAD  45.150323 -112.736273  0.788022 -1.967619     29.815079     14.556742     340.870987\n",
      "1          BIG HORN  45.706885 -107.632997  0.797736 -1.878550     12.497883    150.411271    1476.409057\n",
      "2            BLAINE  48.566366 -109.115610  0.847643 -1.904427      4.679703     19.048722      70.012251\n",
      "3        BROADWATER  45.972970 -111.031085  0.802380 -1.937858    361.165686    604.542841  171483.936998\n",
      "4            CARBON  45.360066 -109.010986  0.791682 -1.902601     16.750222     12.825970     168.733243\n",
      "5            CARTER  45.184142 -104.756992  0.788612 -1.828354     12.413320     17.143856     167.142285\n",
      "6           CASCADE  47.466984 -111.339967  0.828455 -1.943249     28.779002    263.997125    5967.120438\n",
      "7          CHOUTEAU  47.979765 -110.512662  0.837405 -1.928810     19.928441     25.084602     392.618198\n",
      "8            CUSTER  46.360621 -105.858334  0.809145 -1.847576     11.763323     14.382919     132.882233\n",
      "9           DANIELS  48.764088 -105.252718  0.851094 -1.837006     10.537557    377.332641    3122.871991\n",
      "10           DAWSON  47.128496 -104.724448  0.822547 -1.827786     12.087555     12.774306     121.273435\n",
      "11       DEER LODGE  46.151571 -112.784751  0.805497 -1.968465     73.900338    124.710111    7238.323182\n",
      "12           FALLON  46.406968 -104.385196  0.809954 -1.821865      8.263427     14.090516      91.448585\n",
      "13           FERGUS  47.008254 -109.385745  0.820449 -1.909141     16.785375     29.062912     383.142261\n",
      "14         FLATHEAD  48.247268 -114.263385  0.842074 -1.994272     30.204599     99.423671    2358.591589\n",
      "15         GALLATIN  45.661790 -111.145951  0.796949 -1.939863     45.595035     94.663293    3389.916815\n",
      "16         GARFIELD  47.239098 -106.952342  0.824478 -1.866671     12.581846     19.352073     191.232520\n",
      "17          GLACIER  48.578057 -112.707475  0.847847 -1.967117     61.278589     96.235009    4631.607261\n",
      "18    GOLDEN VALLEY  46.281859 -109.081161  0.807771 -1.903825      4.989820     12.496844      48.975072\n",
      "19          GRANITE  46.635495 -113.192111  0.813943 -1.975575      9.394516     10.151876      74.904961\n",
      "20             HILL  48.513290 -109.805060  0.846717 -1.916460      7.782936     15.748928      96.268527\n",
      "21        JEFFERSON  46.081938 -112.025124  0.804282 -1.955207     29.307469     23.940806     551.070256\n",
      "22     JUDITH BASIN  47.107635 -110.178435  0.822183 -1.922976     13.520875     25.296854     268.634136\n",
      "23             LAKE  47.562510 -114.138656  0.830122 -1.992095     24.444928      6.949175     133.417210\n",
      "24  LEWIS AND CLARK  46.671200 -111.961257  0.814566 -1.954093    120.362563    196.137839   18541.407374\n",
      "25          LIBERTY  48.490731 -111.001576  0.846323 -1.937343      8.046081      9.404844      59.432754\n",
      "26          LINCOLN  48.554554 -115.330106  0.847437 -2.012890     29.077442     24.028528     548.748380\n",
      "27          MADISON  45.360389 -111.809087  0.791688 -1.951437     25.481820     22.407114     448.441967\n",
      "28           MCCONE  47.647813 -105.582342  0.831611 -1.842759     28.443992     12.561982     280.632906\n",
      "29          MEAGHER  46.444045 -110.836026  0.810602 -1.934454     13.511704     10.676060     113.295071\n",
      "30          MINERAL  47.185926 -114.907317  0.823550 -2.005511     56.901807     70.014348    3128.981479\n",
      "31         MISSOULA  46.876768 -113.983928  0.818154 -1.989395     39.570799    142.955238    4442.881952\n",
      "32      MUSSELSHELL  46.489313 -108.556756  0.811392 -1.894673     17.301194      6.102376      82.921076\n",
      "33             PARK  45.549990 -110.275380  0.794997 -1.924668    251.592392    426.012160   84180.089278\n",
      "34        PETROLEUM  46.856181 -108.532321  0.817795 -1.894246     12.059528     11.178538     105.877870\n",
      "35         PHILLIPS  48.353408 -107.899650  0.843926 -1.883204     20.391607     24.817303     397.462288\n",
      "36          PONDERA  48.232515 -112.002110  0.841816 -1.954806     11.176437     13.138682     115.330738\n",
      "37     POWDER RIVER  45.482491 -105.560257  0.793819 -1.842374     12.628133     21.288639     211.143121\n",
      "38           POWELL  46.463853 -112.714982  0.810947 -1.967248     97.393600    159.733475   12218.453574\n",
      "39          PRAIRIE  46.817773 -105.228419  0.817124 -1.836582      7.962122     11.955503      74.762970\n",
      "40          RAVALLI  46.393717 -114.107336  0.809723 -1.991549     19.324079    152.382634    2312.725903\n",
      "41         RICHLAND  47.663148 -104.229077  0.831879 -1.819141     79.753270     91.703512    5744.131143\n",
      "42        ROOSEVELT  48.138984 -105.013488  0.840184 -1.832831      7.046306     40.021923     221.487560\n",
      "43          ROSEBUD  46.198525 -106.612647  0.806316 -1.860742     18.730784     16.679846     245.379277\n",
      "44          SANDERS  47.524180 -114.926287  0.829453 -2.005842     17.942650     26.952999     379.825017\n",
      "45         SHERIDAN  48.688394 -104.530490  0.849773 -1.824401     14.178207      9.731284     108.363074\n",
      "46       SILVER BOW  45.964990 -112.593056  0.802240 -1.965120     37.058273     61.836513    1799.782632\n",
      "47       STILLWATER  45.614828 -109.173819  0.796129 -1.905443     82.531497    141.263622    9156.720210\n",
      "48      SWEET GRASS  45.789281 -109.758908  0.799174 -1.915654      6.463338    486.325320    2468.730212\n",
      "49            TETON  47.797455 -111.962928  0.834223 -1.954122     98.164846    153.862870   11862.594946\n",
      "50            TOOLE  48.542538 -111.874217  0.847227 -1.952573     13.944736     14.312728     156.755431\n",
      "51         TREASURE  46.230996 -107.205564  0.806883 -1.871090      5.055068     10.637577      42.233744\n",
      "52           VALLEY  48.194156 -106.477225  0.841147 -1.858378     14.596648     25.596099     293.438307\n",
      "53        WHEATLAND  46.460275 -109.722700  0.810885 -1.915022     11.581366     10.048364      91.399760\n",
      "54           WIBAUX  46.974130 -104.211128  0.819853 -1.818827      7.782143      6.198423      37.885258\n",
      "55      YELLOWSTONE  45.791069 -108.450551  0.799205 -1.892819     85.331036    223.003576   14945.440769\n",
      "\n",
      "\n",
      "location_raw    BROADWATER\n",
      "lat                 45.973\n",
      "lon               -111.031\n",
      "lat_rad            0.80238\n",
      "lon_rad           -1.93786\n",
      "lat_axis_len       361.166\n",
      "lon_axis_len       604.543\n",
      "area                171484\n",
      "Name: 3, dtype: object\n"
     ]
    }
   ],
   "source": [
    "radius = 6371.0\n",
    "mtf_county_loc = mtf[['location_raw','county_fips', 'lat', 'lon']].copy()\n",
    "mtf_county_loc.dropna(how='any', inplace=True)\n",
    "mtf_county_loc['lat'] = mtf_county_loc['lat'].apply(lambda x: float(x)) \n",
    "mtf_county_loc['lon'] = mtf_county_loc['lon'].apply(lambda x: float(x))  \n",
    "mtf_county_loc['lat_rad'] = mtf_county_loc['lat'].apply(lambda x: (float(x))*np.pi/180.0)\n",
    "mtf_county_loc['lon_rad'] = mtf_county_loc['lon'].apply(lambda x: (float(x))*np.pi/180.0) \n",
    "stdev = pd.DataFrame(mtf_county_loc.groupby(['location_raw']).std()).reset_index()\n",
    "#print(stdev)\n",
    "mean_ = pd.DataFrame(mtf_county_loc.groupby(['location_raw']).mean()).reset_index()\n",
    "# get the distance between two point based on latitudes and longitudes\n",
    "def gc_len(lat1, lon1, lat2, lon2):\n",
    "    dlat = lat2 - lat1;\n",
    "    dlon = lon2 - lon1;\n",
    "    a = (np.sin(dlat/2))**2 + np.cos(lat1) * np.cos(lat2) * (np.sin(dlon/2))**2\n",
    "    c = 2.0 * np.arctan2(a**0.5, (1-a)**0.5)\n",
    "    return 6371.0 * c\n",
    "\n",
    "mean_['lat_axis_len'] = gc_len(mean_['lat_rad'].as_matrix()-stdev['lat_rad'].as_matrix() * 0.5, mean_['lon_rad'].as_matrix(), \\\n",
    "                                 mean_['lat_rad'].as_matrix()+stdev['lat_rad'].as_matrix() * 0.5,  mean_['lon_rad'].as_matrix())\n",
    "mean_['lon_axis_len'] = gc_len(mean_['lat_rad'].as_matrix(), mean_['lon_rad'].as_matrix()-stdev['lon_rad'].as_matrix() * 0.5, \\\n",
    "                                 mean_['lat_rad'].as_matrix(), mean_['lon_rad'].as_matrix()+stdev['lon_rad'].as_matrix() * 0.5)\n",
    "\n",
    "mean_['area'] = mean_['lon_axis_len']  * mean_['lat_axis_len'] * np.pi * 0.25 # ellipse area = pi * half-major-axis-len * half-minor-axis-len\n",
    "print(mean_.to_string())\n",
    "print(\"\\n\")\n",
    "print(mean_.iloc[mean_['area'].idxmax()])"
   ]
  }
 ],
 "metadata": {
  "kernelspec": {
   "display_name": "Python 3",
   "language": "python",
   "name": "python3"
  },
  "language_info": {
   "codemirror_mode": {
    "name": "ipython",
    "version": 3
   },
   "file_extension": ".py",
   "mimetype": "text/x-python",
   "name": "python",
   "nbconvert_exporter": "python",
   "pygments_lexer": "ipython3",
   "version": "3.6.5"
  }
 },
 "nbformat": 4,
 "nbformat_minor": 2
}
